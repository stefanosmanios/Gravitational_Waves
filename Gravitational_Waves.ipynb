{
 "cells": [
  {
   "cell_type": "code",
   "execution_count": null,
   "id": "e84936ef",
   "metadata": {},
   "outputs": [],
   "source": [
    "import numpy as np\n",
    "import pandas as pd\n",
    "import os\n",
    "import matplotlib.pyplot as plt\n",
    "from scipy.signal import spectrogram\n",
    "import tensorflow as tf\n",
    "from sklearn.model_selection import train_test_split\n",
    "from tqdm import tqdm\n"
   ]
  },
  {
   "cell_type": "code",
   "execution_count": null,
   "id": "0bd3af05",
   "metadata": {},
   "outputs": [],
   "source": [
    "labels_df = pd.read_csv(\"training_labels.csv\")\n",
    "print(labels_df.head())\n"
   ]
  },
  {
   "cell_type": "code",
   "execution_count": null,
   "id": "e02b75db",
   "metadata": {},
   "outputs": [],
   "source": [
    "def generate_spectrogram(signal, fs=2048):\n",
    "    f, t, Sxx = spectrogram(signal, fs=fs, nperseg=256, noverlap=128)\n",
    "    return np.log1p(Sxx)\n",
    "\n",
    "def waveform_to_rgb(waveform):\n",
    "    rgb = []\n",
    "    for i in range(3):  # 3 κανάλια\n",
    "        Sxx = generate_spectrogram(waveform[i])\n",
    "        Sxx = np.log1p(Sxx)\n",
    "        rgb.append(Sxx)\n",
    "    image = np.stack(rgb, axis=-1)\n",
    "    return (image - np.mean(image)) / (np.std(image) + 1e-8)\n",
    "    #return np.stack(rgb, axis=-1)  # (freq, time, 3)\n"
   ]
  },
  {
   "cell_type": "code",
   "execution_count": null,
   "id": "dadb8379",
   "metadata": {},
   "outputs": [],
   "source": [
    "import glob\n",
    "\n",
    "def build_file_map(base_path=\"train\"):\n",
    "    all_files = glob.glob(os.path.join(base_path, \"*\", \"*\", \"*\", \"*.npy\"))\n",
    "    return {os.path.splitext(os.path.basename(f))[0]: f for f in all_files}\n",
    "\n",
    "file_map = build_file_map()\n",
    "\n",
    "def load_data_with_map(file_map, labels_df, max_samples=50000):\n",
    "    X, y = [], []\n",
    "    for i, row in tqdm(labels_df.iterrows(), total=min(len(labels_df), max_samples)):\n",
    "        if i >= max_samples:\n",
    "            break\n",
    "        file_id = row[\"id\"]\n",
    "        label = row[\"target\"]\n",
    "        if file_id in file_map:\n",
    "            waveform = np.load(file_map[file_id])\n",
    "            img = waveform_to_rgb(waveform)\n",
    "            X.append(img)\n",
    "            y.append(label)\n",
    "        else:\n",
    "            print(f\"Missing file: {file_id}\")\n",
    "    return np.array(X), np.array(y)\n"
   ]
  },
  {
   "cell_type": "code",
   "execution_count": null,
   "id": "3c12693f",
   "metadata": {},
   "outputs": [],
   "source": [
    "X, y = load_data_with_map(file_map, labels_df, max_samples=50000)"
   ]
  },
  {
   "cell_type": "code",
   "execution_count": null,
   "id": "54cfff99",
   "metadata": {},
   "outputs": [],
   "source": [
    "X = X / np.max(X)"
   ]
  },
  {
   "cell_type": "code",
   "execution_count": null,
   "id": "66ca4270",
   "metadata": {},
   "outputs": [],
   "source": [
    "# balance of the dataset\n",
    "print(np.unique(y, return_counts=True))"
   ]
  },
  {
   "cell_type": "code",
   "execution_count": null,
   "id": "2fb77c59",
   "metadata": {},
   "outputs": [],
   "source": [
    "#X = X / np.max(X)  # Normalization\n",
    "\n",
    "X_train, X_val, y_train, y_val = train_test_split(X, y, test_size=0.2, random_state=42)\n"
   ]
  },
  {
   "cell_type": "code",
   "execution_count": null,
   "id": "298fbee6",
   "metadata": {},
   "outputs": [],
   "source": [
    "def build_cnn(input_shape):\n",
    "    Conv1 = tf.keras.layers.Conv2D(filters=32, kernel_size=(3, 3), input_shape=input_shape, activation=\"elu\")\n",
    "    Maxpooling1 = tf.keras.layers.MaxPool2D()\n",
    "    Conv2 = tf.keras.layers.Conv2D(filters=32, kernel_size=(3, 3), activation=\"elu\")\n",
    "    Maxpooling2 = tf.keras.layers.MaxPool2D()\n",
    "    Conv3 = tf.keras.layers.Conv2D(filters=32, kernel_size=(3, 3), activation=\"elu\")\n",
    "    Maxpooling3 = tf.keras.layers.MaxPool2D()\n",
    "    flatten = tf.keras.layers.Flatten()\n",
    "    Dense1 = tf.keras.layers.Dense(64, activation=\"relu\")\n",
    "    dense2 = tf.keras.layers.Dense(1, activation=\"sigmoid\")\n",
    "\n",
    "    model = tf.keras.Sequential([\n",
    "        Conv1, Maxpooling1,\n",
    "        Conv2, Maxpooling2,\n",
    "        Conv3, Maxpooling3,\n",
    "        flatten, Dense1, dense2\n",
    "    ])\n",
    "    \n",
    "    model.compile(\n",
    "        optimizer=tf.keras.optimizers.Adam(learning_rate=0.0001),\n",
    "        loss='binary_crossentropy',\n",
    "        metrics=[tf.keras.metrics.BinaryAccuracy(name='accuracy'),\n",
    "        tf.keras.metrics.AUC(name='auc'),\n",
    "        tf.keras.metrics.Precision(name='precision'),\n",
    "        tf.keras.metrics.Recall(name='recall')]\n",
    "    )\n",
    "    return model\n",
    "\n",
    "model = build_cnn((X_train.shape[1:]))\n",
    "model.summary()"
   ]
  },
  {
   "cell_type": "code",
   "execution_count": null,
   "id": "e5201f37",
   "metadata": {},
   "outputs": [],
   "source": [
    "def build_cnn(input_shape):\n",
    "    model = tf.keras.Sequential([\n",
    "        tf.keras.layers.Conv2D(32, (3, 3), padding='same', input_shape=input_shape),\n",
    "        tf.keras.layers.BatchNormalization(),\n",
    "        tf.keras.layers.Activation(\"elu\"),\n",
    "        tf.keras.layers.MaxPooling2D(),\n",
    "\n",
    "        tf.keras.layers.Conv2D(32, (3, 3), padding='same'),\n",
    "        tf.keras.layers.BatchNormalization(),\n",
    "        tf.keras.layers.Activation(\"elu\"),\n",
    "        tf.keras.layers.MaxPooling2D(),\n",
    "\n",
    "        tf.keras.layers.Conv2D(32, (3, 3), padding='same'),\n",
    "        tf.keras.layers.BatchNormalization(),\n",
    "        tf.keras.layers.Activation(\"elu\"),\n",
    "        tf.keras.layers.MaxPooling2D(),\n",
    "\n",
    "        tf.keras.layers.Flatten(),\n",
    "        tf.keras.layers.Dense(64, activation=\"relu\"),\n",
    "        tf.keras.layers.Dense(1, activation=\"sigmoid\")\n",
    "    ])\n",
    "\n",
    "    model.compile(\n",
    "        optimizer=tf.keras.optimizers.Adam(learning_rate=0.001),\n",
    "        loss='binary_crossentropy',\n",
    "        metrics=[\n",
    "            tf.keras.metrics.BinaryAccuracy(name='accuracy'),\n",
    "            tf.keras.metrics.AUC(name='auc'),\n",
    "            tf.keras.metrics.Precision(name='precision'),\n",
    "            tf.keras.metrics.Recall(name='recall')\n",
    "        ]\n",
    "    )\n",
    "\n",
    "    return model\n"
   ]
  },
  {
   "cell_type": "code",
   "execution_count": null,
   "id": "e47eda8f",
   "metadata": {},
   "outputs": [],
   "source": [
    "history = model.fit(\n",
    "    X_train, y_train,\n",
    "    epochs=40,\n",
    "    batch_size=16,\n",
    "    validation_data=(X_val, y_val)\n",
    ")\n"
   ]
  },
  {
   "cell_type": "code",
   "execution_count": null,
   "id": "e79323cf",
   "metadata": {},
   "outputs": [],
   "source": [
    "# confusion matrix\n",
    "from sklearn.metrics import confusion_matrix, ConfusionMatrixDisplay\n",
    "y_pred = (model.predict(X_val) > 0.5).astype(\"int32\")\n",
    "cm = confusion_matrix(y_val, y_pred)\n",
    "disp = ConfusionMatrixDisplay(confusion_matrix=cm, display_labels=[\"No\", \"Yes\"])\n",
    "disp.plot(cmap=plt.cm.Blues)\n",
    "plt.title(\"Confusion Matrix\")\n",
    "plt.show()"
   ]
  }
 ],
 "metadata": {
  "kernelspec": {
   "display_name": "g2env",
   "language": "python",
   "name": "python3"
  },
  "language_info": {
   "codemirror_mode": {
    "name": "ipython",
    "version": 3
   },
   "file_extension": ".py",
   "mimetype": "text/x-python",
   "name": "python",
   "nbconvert_exporter": "python",
   "pygments_lexer": "ipython3",
   "version": "3.11.9"
  }
 },
 "nbformat": 4,
 "nbformat_minor": 5
}
